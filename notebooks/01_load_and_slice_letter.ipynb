{
  "cells": [
    {
      "cell_type": "markdown",
      "metadata": {},
      "source": [
        "# 01 — Load & Slice the First Letter\n",
        "## Import Text Dataset\n",
        "\n",
        "---\n"
      ]
    },
    {
      "cell_type": "markdown",
      "metadata": {},
      "source": [
        "## 🎯 Concept Primer\n",
        "\n",
        "### What We're Doing\n",
        "\n",
        "Loading text data is the foundation of any NLP project. For this project, we're working with **Frankenstein** by Mary Shelley (Project Gutenberg).\n",
        "\n",
        "To keep training fast and focused (this is a learning exercise, not production), we'll **slice just the first letter** from the novel — roughly 6,850 characters. This is enough to:\n",
        "- See patterns emerge\n",
        "- Train in seconds, not hours\n",
        "- Iterate quickly\n",
        "\n",
        "### Why This Matters\n",
        "\n",
        "**Clean data access** and **reproducible slicing** mean:\n",
        "- Your experiments are repeatable\n",
        "- You can easily expand to more text later\n",
        "- You understand exactly what data the model sees\n",
        "\n",
        "### What Breaks If We Skip This?\n",
        "\n",
        "- Training on the full novel = 10x longer training time\n",
        "- Inconsistent slices = non-reproducible results\n",
        "- No inspection = you won't understand the text patterns\n",
        "\n",
        "### Shapes\n",
        "- **Input**: A single `.txt` file\n",
        "- **Output**: A Python string of length ~6,850 characters\n",
        "\n",
        "---\n"
      ]
    },
    {
      "cell_type": "markdown",
      "metadata": {},
      "source": [
        "## ✅ Objectives\n",
        "\n",
        "By the end of this notebook, you should:\n",
        "\n",
        "- [ ] Load `datasets/frankenstein.txt` into a Python string variable named `frankenstein`\n",
        "- [ ] Slice characters `[1380:8230]` into `first_letter_text`\n",
        "- [ ] Print the length of `first_letter_text`\n",
        "- [ ] Display a preview (first 500 characters)\n",
        "\n",
        "---\n"
      ]
    },
    {
      "cell_type": "markdown",
      "metadata": {},
      "source": [
        "## 🎓 Acceptance Criteria\n",
        "\n",
        "**You pass this notebook when:**\n",
        "\n",
        "✅ `len(first_letter_text)` prints and equals **6850**  \n",
        "✅ You can see a preview of the text (first 500 chars)  \n",
        "✅ You notice patterns: punctuation style, sentence structure, archaic language\n",
        "\n",
        "---\n"
      ]
    },
    {
      "cell_type": "markdown",
      "metadata": {},
      "source": [
        "## 📝 TODO 1: Load the Full Text\n",
        "\n",
        "**Hint:**  \n",
        "Use a `with open(...)` context manager to read the file. This ensures the file is properly closed after reading.\n",
        "\n",
        "**Steps:**\n",
        "1. Use `open('../datasets/frankenstein.txt', 'r', encoding='utf-8')`\n",
        "2. Read the entire file into a variable called `frankenstein`\n",
        "3. The result should be a single string\n",
        "\n",
        "**What you need:**\n",
        "- `with open(...) as f:`\n",
        "- `f.read()`\n"
      ]
    },
    {
      "cell_type": "code",
      "execution_count": null,
      "metadata": {},
      "outputs": [],
      "source": [
        "# TODO: Load the full Frankenstein text\n",
        "# Use: with open('../datasets/frankenstein.txt', 'r', encoding='utf-8') as f:\n",
        "#      frankenstein = ...\n",
        "\n",
        "frankenstein = None  # Replace this line with your code\n"
      ]
    },
    {
      "cell_type": "markdown",
      "metadata": {},
      "source": [
        "## 📝 TODO 2: Slice to First Letter\n",
        "\n",
        "**Hint:**  \n",
        "Python slicing syntax: `string[start:end]` (end is exclusive)\n",
        "\n",
        "**Steps:**\n",
        "1. Slice `frankenstein[1380:8230]`\n",
        "2. Assign it to `first_letter_text`\n",
        "3. This gives us Letter 1 from the novel (skipping Project Gutenberg header and preliminaries)\n",
        "\n",
        "**Why these indices?**\n",
        "- Index 1380 starts Letter 1\n",
        "- Index 8230 ends Letter 1\n",
        "- Total: 6,850 characters\n"
      ]
    },
    {
      "cell_type": "code",
      "execution_count": null,
      "metadata": {},
      "outputs": [],
      "source": [
        "# TODO: Slice to the first letter\n",
        "# first_letter_text = frankenstein[1380:8230]\n",
        "\n",
        "first_letter_text = None  # Replace this line with your code\n"
      ]
    },
    {
      "cell_type": "markdown",
      "metadata": {},
      "source": [
        "## 📝 TODO 3: Inspect the Data\n",
        "\n",
        "**Hint:**  \n",
        "Use `len()` to get string length and slicing to preview\n",
        "\n",
        "**Steps:**\n",
        "1. Print `len(first_letter_text)` — should be **6850**\n",
        "2. Print the first 500 characters: `first_letter_text[:500]`\n",
        "3. Observe: punctuation, capitalization, sentence structure\n"
      ]
    },
    {
      "cell_type": "code",
      "execution_count": null,
      "metadata": {},
      "outputs": [],
      "source": [
        "# TODO: Print length and preview\n",
        "# print(f\"Length of first_letter_text: {len(first_letter_text)}\")\n",
        "# print(f\"\\nFirst 500 characters:\\n{first_letter_text[:500]}\")\n",
        "\n",
        "# Your code here\n"
      ]
    },
    {
      "cell_type": "markdown",
      "metadata": {},
      "source": [
        "## 💭 Reflection Prompts\n",
        "\n",
        "**Write your observations:**\n",
        "\n",
        "1. **Punctuation**: What punctuation marks appear frequently? (commas, periods, semicolons, dashes?)\n",
        "\n",
        "2. **Sentence Structure**: Are sentences short or long? Simple or complex?\n",
        "\n",
        "3. **Archaic Language**: Do you see any old-fashioned words or phrasing?\n",
        "\n",
        "4. **Why 6,850 characters?**: How does this compare to a typical page of text? (Hint: ~2-3 pages)\n",
        "\n",
        "---\n"
      ]
    },
    {
      "cell_type": "markdown",
      "metadata": {},
      "source": [
        "## 🚀 Next Steps\n",
        "\n",
        "Once you've completed the TODOs and can print the length + preview:\n",
        "\n",
        "➡️ **Move to Notebook 02**: Character Tokenization & Vocabulary Building\n",
        "\n",
        "---\n",
        "\n",
        "## 📌 Key Takeaways\n",
        "\n",
        "- ✅ Text data starts as a simple string\n",
        "- ✅ Slicing lets us work with manageable chunks\n",
        "- ✅ Inspection helps us understand patterns the model will learn\n",
        "- ✅ Context managers (`with open(...)`) are best practice for file I/O\n",
        "\n",
        "---\n",
        "\n",
        "*Remember: The model will learn from every character, including spaces, punctuation, and newlines!*\n"
      ]
    }
  ],
  "metadata": {
    "language_info": {
      "name": "python"
    }
  },
  "nbformat": 4,
  "nbformat_minor": 2
}
