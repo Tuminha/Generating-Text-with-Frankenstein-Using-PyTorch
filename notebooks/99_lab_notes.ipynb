{
  "cells": [
    {
      "cell_type": "markdown",
      "metadata": {},
      "source": [
        "# 99 — Lab Notes & Learning Journal\n",
        "## Reflections on the Character-Level LSTM Project\n",
        "\n",
        "---\n"
      ]
    },
    {
      "cell_type": "markdown",
      "metadata": {},
      "source": [
        "## 📖 Purpose\n",
        "\n",
        "This notebook is your **learning journal** for the Frankenstein text generation project.\n",
        "\n",
        "Use it to:\n",
        "- Document what you learned\n",
        "- Track experiments and results\n",
        "- Note confusions and breakthroughs\n",
        "- Plan next steps\n",
        "\n",
        "**Reflections transform activity into understanding.** Take time to write thoughtfully.\n",
        "\n",
        "---\n"
      ]
    },
    {
      "cell_type": "markdown",
      "metadata": {},
      "source": [
        "## 📅 Session Log\n",
        "\n",
        "### Session 1: [Date]\n",
        "\n",
        "**Goal:**  \n",
        "*What did you set out to accomplish?*\n",
        "\n",
        "**What I Did:**  \n",
        "*List notebooks completed, experiments run*\n",
        "\n",
        "**What Clicked:**  \n",
        "*Concepts that finally made sense*\n",
        "\n",
        "**What Confused Me:**  \n",
        "*Questions or concepts still unclear*\n",
        "\n",
        "**Training Loss:**  \n",
        "*Epoch 1: X.XXX | Epoch 2: X.XXX | ... | Epoch 5: X.XXX*\n",
        "\n",
        "**Generated Text Quality:**  \n",
        "*Brief assessment: coherent? repetitive? style match?*\n",
        "\n",
        "**Time Spent:**  \n",
        "*Rough estimate*\n",
        "\n",
        "---\n"
      ]
    },
    {
      "cell_type": "markdown",
      "metadata": {},
      "source": [
        "### Session 2: [Date]\n",
        "\n",
        "**Experiment:**  \n",
        "*e.g., Tried temperature sampling with T=0.8*\n",
        "\n",
        "**Result:**  \n",
        "*What happened?*\n",
        "\n",
        "**Observation:**  \n",
        "*What did you notice?*\n",
        "\n",
        "**Next Action:**  \n",
        "*What will you try next?*\n",
        "\n",
        "---\n"
      ]
    },
    {
      "cell_type": "markdown",
      "metadata": {},
      "source": [
        "## 🧠 Key Concepts Learned\n",
        "\n",
        "### Character-Level Tokenization\n",
        "*In your own words, what is it and why use it?*\n",
        "\n",
        "### LSTM Gates\n",
        "*What do the three gates (forget, input, output) actually control?*\n",
        "\n",
        "### Hidden State vs. Cell State\n",
        "*What's the difference and why do we need both?*\n",
        "\n",
        "### Training vs. Generation\n",
        "*How do these two phases differ?*\n",
        "\n",
        "### Why Reshape for CrossEntropyLoss\n",
        "*Why do we flatten from [B, T, V] to [B*T, V]?*\n",
        "\n",
        "---\n"
      ]
    },
    {
      "cell_type": "markdown",
      "metadata": {},
      "source": [
        "## 📊 Results Summary\n",
        "\n",
        "### Training Metrics\n",
        "\n",
        "| Epoch | Loss | Notes |\n",
        "|-------|------|-------|\n",
        "| 1 | | |\n",
        "| 2 | | |\n",
        "| 3 | | |\n",
        "| 4 | | |\n",
        "| 5 | | |\n",
        "\n",
        "### Generated Text Sample\n",
        "\n",
        "**Prompt:** \"You will rejoice to hear\"\n",
        "\n",
        "**Output (first 200 chars):**\n",
        "```\n",
        "[Paste your generated text here]\n",
        "```\n",
        "\n",
        "**Assessment:**\n",
        "- **Style match**: [1-5 scale] - How Frankenstein-like?\n",
        "- **Coherence**: [1-5 scale] - Does it make sense?\n",
        "- **Repetition**: [Yes/No] - Any loops or repeated phrases?\n",
        "\n",
        "---\n"
      ]
    },
    {
      "cell_type": "markdown",
      "metadata": {},
      "source": [
        "## 🔬 Experiments to Try\n",
        "\n",
        "### Experiment Ideas\n",
        "\n",
        "- [ ] **Temperature Sampling**: Try T = 0.5, 0.8, 1.2 — compare outputs\n",
        "- [ ] **Longer Sequences**: Change `seq_length` from 48 to 64 or 96\n",
        "- [ ] **Larger Hidden Size**: Increase from 96 to 128 or 256\n",
        "- [ ] **More Epochs**: Train for 10 or 20 epochs instead of 5\n",
        "- [ ] **Full Novel**: Train on entire Frankenstein text\n",
        "- [ ] **Different Prompts**: Try various starting prompts\n",
        "- [ ] **Beam Search**: Implement top-k sampling\n",
        "- [ ] **Learning Rate Tuning**: Try lr = 0.001, 0.01, 0.05\n",
        "\n",
        "### Experiment Log\n",
        "\n",
        "#### Experiment: [Name]\n",
        "**Hypothesis:**  \n",
        "*What do you expect to happen?*\n",
        "\n",
        "**Setup:**  \n",
        "*What parameters changed?*\n",
        "\n",
        "**Result:**  \n",
        "*What actually happened?*\n",
        "\n",
        "**Conclusion:**  \n",
        "*What did you learn?*\n",
        "\n",
        "---\n"
      ]
    },
    {
      "cell_type": "markdown",
      "metadata": {},
      "source": [
        "## 💡 Insights & Breakthroughs\n",
        "\n",
        "### What Surprised Me\n",
        "*Unexpected results or behaviors*\n",
        "\n",
        "### Biggest Challenge\n",
        "*What was hardest to understand or implement?*\n",
        "\n",
        "### Most Valuable Learning\n",
        "*What concept or skill will stick with you?*\n",
        "\n",
        "### Connection to Other Projects\n",
        "*How does this relate to other ML/DL concepts you've learned?*\n",
        "\n",
        "---\n"
      ]
    },
    {
      "cell_type": "markdown",
      "metadata": {},
      "source": [
        "## 🚀 Next Steps\n",
        "\n",
        "### Short-Term (This Week)\n",
        "1. \n",
        "2. \n",
        "3. \n",
        "\n",
        "### Medium-Term (This Month)\n",
        "1. \n",
        "2. \n",
        "3. \n",
        "\n",
        "### Long-Term (This Quarter)\n",
        "1. \n",
        "2. \n",
        "3. \n",
        "\n",
        "---\n"
      ]
    },
    {
      "cell_type": "markdown",
      "metadata": {},
      "source": [
        "## 📚 Resources & References\n",
        "\n",
        "### Helpful Links\n",
        "- [PyTorch LSTM Documentation](https://pytorch.org/docs/stable/generated/torch.nn.LSTM.html)\n",
        "- [Understanding LSTM Networks](http://colah.github.io/posts/2015-08-Understanding-LSTMs/)\n",
        "- [The Unreasonable Effectiveness of RNNs](http://karpathy.github.io/2015/05/21/rnn-effectiveness/)\n",
        "\n",
        "### Similar Projects to Explore\n",
        "- Word-level language models\n",
        "- Text classification with LSTM\n",
        "- Sequence-to-sequence models\n",
        "- Transformer-based text generation (GPT-style)\n",
        "\n",
        "---\n"
      ]
    },
    {
      "cell_type": "markdown",
      "metadata": {},
      "source": [
        "## ✨ Final Reflection\n",
        "\n",
        "### What This Project Taught Me\n",
        "\n",
        "### How I Grew as a Machine Learning Practitioner\n",
        "\n",
        "### What I Would Do Differently Next Time\n",
        "\n",
        "### My Favorite Part of This Project\n",
        "\n",
        "---\n",
        "\n",
        "*Keep learning, keep building, keep reflecting.* 🚀\n"
      ]
    }
  ],
  "metadata": {
    "language_info": {
      "name": "python"
    }
  },
  "nbformat": 4,
  "nbformat_minor": 2
}
